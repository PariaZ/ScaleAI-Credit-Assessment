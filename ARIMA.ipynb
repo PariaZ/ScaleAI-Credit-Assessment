{
  "nbformat": 4,
  "nbformat_minor": 0,
  "metadata": {
    "colab": {
      "provenance": []
    },
    "kernelspec": {
      "name": "python3",
      "display_name": "Python 3"
    },
    "language_info": {
      "name": "python"
    }
  },
  "cells": [
    {
      "cell_type": "code",
      "execution_count": null,
      "metadata": {
        "id": "nHULmPUtOCjf"
      },
      "outputs": [],
      "source": [
        "import numpy as np\n",
        "from sklearn.preprocessing import MinMaxScaler\n",
        "def ts_accounts(t=0):\n",
        "  if (t==0):\n",
        "    ts=[]\n",
        "\n",
        "\n",
        "    for i in range(1,9):\n",
        "      ts_ac= ts_data[ts_data['account_number']=='12345'+ str(i)]\n",
        "      #ts_ac.reset_index(drop=True, inplace=True)\n",
        "      values_db = ts_ac['debit_w'].values\n",
        "      values_db1 = ts_ac['debit'].values\n",
        "      scaler = MinMaxScaler(feature_range=(0, 10))\n",
        "      normalized_db1 = scaler.fit_transform(values_db1.reshape(-1, 1))\n",
        "      ts_ac['norm_db']=normalized_db1\n",
        "      scaler = MinMaxScaler(feature_range=(0, 10))\n",
        "      normalized_db = scaler.fit_transform(values_db.reshape(-1, 1))\n",
        "      values_cr = ts_ac['credit_w'].values\n",
        "      scaler = MinMaxScaler(feature_range=(-1, 0))\n",
        "      normalized_cr = scaler.fit_transform(values_cr.reshape(-1, 1))\n",
        "      values_cr1 = ts_ac['credit'].values\n",
        "      scaler = MinMaxScaler(feature_range=(0, 10))\n",
        "      normalized_cr1 = scaler.fit_transform(values_cr1.reshape(-1, 1))\n",
        "      ts_ac['norm_cr']=normalized_cr1\n",
        "\n",
        "      ts.append(ts_ac)\n",
        "    return ts\n",
        "\n",
        "  else:\n",
        "     ts= ts_data[ts_data['account_number']=='12345'+ str(t)]\n",
        "     #ts.reset_index(drop=True, inplace=True)\n",
        "     values_db1 = ts['debit'].values\n",
        "     scaler = MinMaxScaler(feature_range=(0, 10))\n",
        "     normalized_db1 = scaler.fit_transform(values_db1.reshape(-1, 1))\n",
        "     ts['norm_db']=normalized_db1\n",
        "     values_cr1 = ts['credit'].values\n",
        "     scaler = MinMaxScaler(feature_range=(0, 10))\n",
        "     normalized_cr1 = scaler.fit_transform(values_cr1.reshape(-1, 1))\n",
        "     ts['norm_cr']=normalized_cr1\n",
        "\n",
        "\n",
        "     return ts"
      ]
    }
  ]
}